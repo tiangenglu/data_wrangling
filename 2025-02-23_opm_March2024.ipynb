{
 "cells": [
  {
   "cell_type": "markdown",
   "id": "d85d41d8",
   "metadata": {},
   "source": [
    "# OPM Federal Workforce Fact Data\n",
    "\n",
    "- Exploratory analysis of March 2024 (most recent available to public) OPM data\n",
    "- Facts about the federal workforce"
   ]
  },
  {
   "cell_type": "code",
   "execution_count": 1,
   "id": "d4984b36",
   "metadata": {},
   "outputs": [],
   "source": [
    "import pandas as pd\n",
    "import getpass\n",
    "import matplotlib.pyplot as plt\n",
    "import os"
   ]
  },
  {
   "cell_type": "code",
   "execution_count": 3,
   "id": "59abf0cb",
   "metadata": {},
   "outputs": [
    {
     "name": "stdout",
     "output_type": "stream",
     "text": [
      "Paste work directory path and then press enter: ········\n"
     ]
    }
   ],
   "source": [
    "work_directory = '{0}'.format(getpass.getpass('Paste work directory path and then press enter: '))"
   ]
  },
  {
   "cell_type": "code",
   "execution_count": 6,
   "id": "f624434c",
   "metadata": {},
   "outputs": [],
   "source": [
    "os.chdir(work_directory)"
   ]
  },
  {
   "cell_type": "code",
   "execution_count": 8,
   "id": "4dea7cb9",
   "metadata": {},
   "outputs": [
    {
     "name": "stdout",
     "output_type": "stream",
     "text": [
      "['DTgsegrd.txt', 'FS_Employment_Mar2024_Documentation.pdf', 'DTwrksch.txt', 'FACTDATA_MAR2024.TXT', 'DTagy.txt', 'DTppgrd.txt', 'DTpatco.txt', 'DTdate.txt', 'DTagelvl.txt', 'DTsallvl.txt', 'DTwkstat.txt', 'DTsuper.txt', 'DTtoa.txt', 'DTocc.txt', 'DTpp.txt', 'ReadRawData_CreateTempDatasets_DataGov.sas', 'DTedlvl.txt', 'DTloslvl.txt', 'DTstemocc.txt', 'DTloc.txt']\n"
     ]
    }
   ],
   "source": [
    "print(os.listdir())"
   ]
  },
  {
   "cell_type": "markdown",
   "id": "d93f55d4",
   "metadata": {},
   "source": [
    "# Data"
   ]
  },
  {
   "cell_type": "code",
   "execution_count": 10,
   "id": "69601e4a",
   "metadata": {},
   "outputs": [
    {
     "name": "stdout",
     "output_type": "stream",
     "text": [
      "CPU times: user 2.84 s, sys: 661 ms, total: 3.5 s\n",
      "Wall time: 3.5 s\n"
     ]
    }
   ],
   "source": [
    "%%time\n",
    "df_fact = pd.read_csv('FACTDATA_MAR2024.TXT', low_memory=False)"
   ]
  },
  {
   "cell_type": "code",
   "execution_count": 11,
   "id": "c75001a1",
   "metadata": {},
   "outputs": [
    {
     "name": "stdout",
     "output_type": "stream",
     "text": [
      "<class 'pandas.core.frame.DataFrame'>\n",
      "RangeIndex: 2278730 entries, 0 to 2278729\n",
      "Data columns (total 20 columns):\n",
      " #   Column      Dtype  \n",
      "---  ------      -----  \n",
      " 0   AGYSUB      object \n",
      " 1   LOC         object \n",
      " 2   AGELVL      object \n",
      " 3   EDLVL       object \n",
      " 4   GSEGRD      object \n",
      " 5   LOSLVL      object \n",
      " 6   OCC         object \n",
      " 7   PATCO       int64  \n",
      " 8   PP          object \n",
      " 9   PPGRD       object \n",
      " 10  SALLVL      int64  \n",
      " 11  STEMOCC     object \n",
      " 12  SUPERVIS    object \n",
      " 13  TOA         object \n",
      " 14  WORKSCH     object \n",
      " 15  WORKSTAT    int64  \n",
      " 16  DATECODE    int64  \n",
      " 17  EMPLOYMENT  int64  \n",
      " 18  SALARY      float64\n",
      " 19  LOS         float64\n",
      "dtypes: float64(2), int64(5), object(13)\n",
      "memory usage: 347.7+ MB\n"
     ]
    }
   ],
   "source": [
    "df_fact.info()"
   ]
  },
  {
   "cell_type": "code",
   "execution_count": 12,
   "id": "f2a39359",
   "metadata": {},
   "outputs": [
    {
     "data": {
      "text/html": [
       "<div>\n",
       "<style scoped>\n",
       "    .dataframe tbody tr th:only-of-type {\n",
       "        vertical-align: middle;\n",
       "    }\n",
       "\n",
       "    .dataframe tbody tr th {\n",
       "        vertical-align: top;\n",
       "    }\n",
       "\n",
       "    .dataframe thead th {\n",
       "        text-align: right;\n",
       "    }\n",
       "</style>\n",
       "<table border=\"1\" class=\"dataframe\">\n",
       "  <thead>\n",
       "    <tr style=\"text-align: right;\">\n",
       "      <th></th>\n",
       "      <th>AGYSUB</th>\n",
       "      <th>LOC</th>\n",
       "      <th>AGELVL</th>\n",
       "      <th>EDLVL</th>\n",
       "      <th>GSEGRD</th>\n",
       "      <th>LOSLVL</th>\n",
       "      <th>OCC</th>\n",
       "      <th>PATCO</th>\n",
       "      <th>PP</th>\n",
       "      <th>PPGRD</th>\n",
       "      <th>SALLVL</th>\n",
       "      <th>STEMOCC</th>\n",
       "      <th>SUPERVIS</th>\n",
       "      <th>TOA</th>\n",
       "      <th>WORKSCH</th>\n",
       "      <th>WORKSTAT</th>\n",
       "      <th>DATECODE</th>\n",
       "      <th>EMPLOYMENT</th>\n",
       "      <th>SALARY</th>\n",
       "      <th>LOS</th>\n",
       "    </tr>\n",
       "  </thead>\n",
       "  <tbody>\n",
       "    <tr>\n",
       "      <th>0</th>\n",
       "      <td>AA00</td>\n",
       "      <td>11</td>\n",
       "      <td>F</td>\n",
       "      <td>13</td>\n",
       "      <td>NaN</td>\n",
       "      <td>G</td>\n",
       "      <td>0340</td>\n",
       "      <td>2</td>\n",
       "      <td>ES</td>\n",
       "      <td>ES-**</td>\n",
       "      <td>20</td>\n",
       "      <td>XXXX</td>\n",
       "      <td>2</td>\n",
       "      <td>50</td>\n",
       "      <td>F</td>\n",
       "      <td>1</td>\n",
       "      <td>202403</td>\n",
       "      <td>1</td>\n",
       "      <td>210000.0</td>\n",
       "      <td>20.8</td>\n",
       "    </tr>\n",
       "    <tr>\n",
       "      <th>1</th>\n",
       "      <td>AA00</td>\n",
       "      <td>11</td>\n",
       "      <td>J</td>\n",
       "      <td>15</td>\n",
       "      <td>NaN</td>\n",
       "      <td>I</td>\n",
       "      <td>0905</td>\n",
       "      <td>1</td>\n",
       "      <td>ES</td>\n",
       "      <td>ES-**</td>\n",
       "      <td>20</td>\n",
       "      <td>XXXX</td>\n",
       "      <td>2</td>\n",
       "      <td>50</td>\n",
       "      <td>F</td>\n",
       "      <td>1</td>\n",
       "      <td>202403</td>\n",
       "      <td>1</td>\n",
       "      <td>203000.0</td>\n",
       "      <td>31.2</td>\n",
       "    </tr>\n",
       "    <tr>\n",
       "      <th>2</th>\n",
       "      <td>AA00</td>\n",
       "      <td>11</td>\n",
       "      <td>K</td>\n",
       "      <td>04</td>\n",
       "      <td>NaN</td>\n",
       "      <td>G</td>\n",
       "      <td>0301</td>\n",
       "      <td>2</td>\n",
       "      <td>99</td>\n",
       "      <td>EX-02</td>\n",
       "      <td>30</td>\n",
       "      <td>XXXX</td>\n",
       "      <td>2</td>\n",
       "      <td>48</td>\n",
       "      <td>F</td>\n",
       "      <td>2</td>\n",
       "      <td>202403</td>\n",
       "      <td>1</td>\n",
       "      <td>NaN</td>\n",
       "      <td>22.0</td>\n",
       "    </tr>\n",
       "    <tr>\n",
       "      <th>3</th>\n",
       "      <td>AA00</td>\n",
       "      <td>11</td>\n",
       "      <td>C</td>\n",
       "      <td>04</td>\n",
       "      <td>12</td>\n",
       "      <td>B</td>\n",
       "      <td>0560</td>\n",
       "      <td>2</td>\n",
       "      <td>99</td>\n",
       "      <td>GS-12</td>\n",
       "      <td>9</td>\n",
       "      <td>XXXX</td>\n",
       "      <td>8</td>\n",
       "      <td>15</td>\n",
       "      <td>F</td>\n",
       "      <td>1</td>\n",
       "      <td>202403</td>\n",
       "      <td>1</td>\n",
       "      <td>99200.0</td>\n",
       "      <td>2.5</td>\n",
       "    </tr>\n",
       "    <tr>\n",
       "      <th>4</th>\n",
       "      <td>AA00</td>\n",
       "      <td>11</td>\n",
       "      <td>D</td>\n",
       "      <td>04</td>\n",
       "      <td>13</td>\n",
       "      <td>B</td>\n",
       "      <td>0905</td>\n",
       "      <td>1</td>\n",
       "      <td>99</td>\n",
       "      <td>GS-13</td>\n",
       "      <td>11</td>\n",
       "      <td>XXXX</td>\n",
       "      <td>8</td>\n",
       "      <td>30</td>\n",
       "      <td>F</td>\n",
       "      <td>1</td>\n",
       "      <td>202403</td>\n",
       "      <td>1</td>\n",
       "      <td>117962.0</td>\n",
       "      <td>2.5</td>\n",
       "    </tr>\n",
       "  </tbody>\n",
       "</table>\n",
       "</div>"
      ],
      "text/plain": [
       "  AGYSUB LOC AGELVL EDLVL GSEGRD LOSLVL   OCC  PATCO  PP  PPGRD  SALLVL  \\\n",
       "0   AA00  11      F    13    NaN      G  0340      2  ES  ES-**      20   \n",
       "1   AA00  11      J    15    NaN      I  0905      1  ES  ES-**      20   \n",
       "2   AA00  11      K    04    NaN      G  0301      2  99  EX-02      30   \n",
       "3   AA00  11      C    04     12      B  0560      2  99  GS-12       9   \n",
       "4   AA00  11      D    04     13      B  0905      1  99  GS-13      11   \n",
       "\n",
       "  STEMOCC SUPERVIS TOA WORKSCH  WORKSTAT  DATECODE  EMPLOYMENT    SALARY   LOS  \n",
       "0    XXXX        2  50       F         1    202403           1  210000.0  20.8  \n",
       "1    XXXX        2  50       F         1    202403           1  203000.0  31.2  \n",
       "2    XXXX        2  48       F         2    202403           1       NaN  22.0  \n",
       "3    XXXX        8  15       F         1    202403           1   99200.0   2.5  \n",
       "4    XXXX        8  30       F         1    202403           1  117962.0   2.5  "
      ]
     },
     "execution_count": 12,
     "metadata": {},
     "output_type": "execute_result"
    }
   ],
   "source": [
    "df_fact.head()"
   ]
  },
  {
   "cell_type": "code",
   "execution_count": null,
   "id": "3c133538",
   "metadata": {},
   "outputs": [],
   "source": []
  }
 ],
 "metadata": {
  "hide_input": false,
  "kernelspec": {
   "display_name": "Python 3 (ipykernel)",
   "language": "python",
   "name": "python3"
  },
  "language_info": {
   "codemirror_mode": {
    "name": "ipython",
    "version": 3
   },
   "file_extension": ".py",
   "mimetype": "text/x-python",
   "name": "python",
   "nbconvert_exporter": "python",
   "pygments_lexer": "ipython3",
   "version": "3.9.18"
  },
  "toc": {
   "base_numbering": 1,
   "nav_menu": {},
   "number_sections": true,
   "sideBar": true,
   "skip_h1_title": false,
   "title_cell": "Table of Contents",
   "title_sidebar": "Contents",
   "toc_cell": false,
   "toc_position": {},
   "toc_section_display": true,
   "toc_window_display": false
  },
  "varInspector": {
   "cols": {
    "lenName": 16,
    "lenType": 16,
    "lenVar": 40
   },
   "kernels_config": {
    "python": {
     "delete_cmd_postfix": "",
     "delete_cmd_prefix": "del ",
     "library": "var_list.py",
     "varRefreshCmd": "print(var_dic_list())"
    },
    "r": {
     "delete_cmd_postfix": ") ",
     "delete_cmd_prefix": "rm(",
     "library": "var_list.r",
     "varRefreshCmd": "cat(var_dic_list()) "
    }
   },
   "types_to_exclude": [
    "module",
    "function",
    "builtin_function_or_method",
    "instance",
    "_Feature"
   ],
   "window_display": false
  }
 },
 "nbformat": 4,
 "nbformat_minor": 5
}
