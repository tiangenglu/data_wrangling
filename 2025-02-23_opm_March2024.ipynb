{
 "cells": [
  {
   "cell_type": "markdown",
   "id": "e4c05308",
   "metadata": {},
   "source": [
    "# OPM Federal Workforce Fact Data\n",
    "\n",
    "- Exploratory analysis of March 2024 (most recent available to public) OPM data\n",
    "- Facts about the federal workforce"
   ]
  },
  {
   "cell_type": "code",
   "execution_count": 1,
   "id": "7e80d1ca",
   "metadata": {},
   "outputs": [],
   "source": [
    "import pandas as pd\n",
    "import getpass\n",
    "import matplotlib.pyplot as plt\n",
    "import os"
   ]
  },
  {
   "cell_type": "code",
   "execution_count": 2,
   "id": "560532fd",
   "metadata": {},
   "outputs": [
    {
     "name": "stdout",
     "output_type": "stream",
     "text": [
      "Paste work directory path and then press enter: ········\n"
     ]
    }
   ],
   "source": [
    "work_directory = '{0}'.format(getpass.getpass('Paste work directory path and then press enter: '))"
   ]
  },
  {
   "cell_type": "code",
   "execution_count": 3,
   "id": "78bcb995",
   "metadata": {},
   "outputs": [],
   "source": [
    "os.chdir(work_directory)"
   ]
  },
  {
   "cell_type": "code",
   "execution_count": 4,
   "id": "4dac49df",
   "metadata": {},
   "outputs": [
    {
     "name": "stdout",
     "output_type": "stream",
     "text": [
      "['DTgsegrd.txt', 'FS_Employment_Mar2024_Documentation.pdf', 'DTwrksch.txt', 'FACTDATA_MAR2024.TXT', 'DTagy.txt', 'DTppgrd.txt', 'DTpatco.txt', 'DTdate.txt', 'DTagelvl.txt', 'DTsallvl.txt', 'DTwkstat.txt', 'DTsuper.txt', 'DTtoa.txt', 'DTocc.txt', 'DTpp.txt', 'ReadRawData_CreateTempDatasets_DataGov.sas', 'DTedlvl.txt', 'DTloslvl.txt', 'DTstemocc.txt', 'DTloc.txt']\n"
     ]
    }
   ],
   "source": [
    "print(os.listdir())"
   ]
  },
  {
   "cell_type": "markdown",
   "id": "bca1f53d",
   "metadata": {},
   "source": [
    "# Data"
   ]
  },
  {
   "cell_type": "code",
   "execution_count": 5,
   "id": "3defac89",
   "metadata": {},
   "outputs": [
    {
     "name": "stdout",
     "output_type": "stream",
     "text": [
      "CPU times: user 3.27 s, sys: 603 ms, total: 3.87 s\n",
      "Wall time: 3.88 s\n"
     ]
    }
   ],
   "source": [
    "%%time\n",
    "df_fact = pd.read_csv('FACTDATA_MAR2024.TXT', low_memory=False)"
   ]
  },
  {
   "cell_type": "code",
   "execution_count": 6,
   "id": "c25d94a2",
   "metadata": {},
   "outputs": [
    {
     "name": "stdout",
     "output_type": "stream",
     "text": [
      "<class 'pandas.core.frame.DataFrame'>\n",
      "RangeIndex: 2278730 entries, 0 to 2278729\n",
      "Data columns (total 20 columns):\n",
      " #   Column      Dtype  \n",
      "---  ------      -----  \n",
      " 0   AGYSUB      object \n",
      " 1   LOC         object \n",
      " 2   AGELVL      object \n",
      " 3   EDLVL       object \n",
      " 4   GSEGRD      object \n",
      " 5   LOSLVL      object \n",
      " 6   OCC         object \n",
      " 7   PATCO       int64  \n",
      " 8   PP          object \n",
      " 9   PPGRD       object \n",
      " 10  SALLVL      int64  \n",
      " 11  STEMOCC     object \n",
      " 12  SUPERVIS    object \n",
      " 13  TOA         object \n",
      " 14  WORKSCH     object \n",
      " 15  WORKSTAT    int64  \n",
      " 16  DATECODE    int64  \n",
      " 17  EMPLOYMENT  int64  \n",
      " 18  SALARY      float64\n",
      " 19  LOS         float64\n",
      "dtypes: float64(2), int64(5), object(13)\n",
      "memory usage: 347.7+ MB\n"
     ]
    }
   ],
   "source": [
    "df_fact.info()"
   ]
  },
  {
   "cell_type": "code",
   "execution_count": 7,
   "id": "058d062f",
   "metadata": {},
   "outputs": [
    {
     "data": {
      "text/html": [
       "<div>\n",
       "<style scoped>\n",
       "    .dataframe tbody tr th:only-of-type {\n",
       "        vertical-align: middle;\n",
       "    }\n",
       "\n",
       "    .dataframe tbody tr th {\n",
       "        vertical-align: top;\n",
       "    }\n",
       "\n",
       "    .dataframe thead th {\n",
       "        text-align: right;\n",
       "    }\n",
       "</style>\n",
       "<table border=\"1\" class=\"dataframe\">\n",
       "  <thead>\n",
       "    <tr style=\"text-align: right;\">\n",
       "      <th></th>\n",
       "      <th>AGYSUB</th>\n",
       "      <th>LOC</th>\n",
       "      <th>AGELVL</th>\n",
       "      <th>EDLVL</th>\n",
       "      <th>GSEGRD</th>\n",
       "      <th>LOSLVL</th>\n",
       "      <th>OCC</th>\n",
       "      <th>PATCO</th>\n",
       "      <th>PP</th>\n",
       "      <th>PPGRD</th>\n",
       "      <th>SALLVL</th>\n",
       "      <th>STEMOCC</th>\n",
       "      <th>SUPERVIS</th>\n",
       "      <th>TOA</th>\n",
       "      <th>WORKSCH</th>\n",
       "      <th>WORKSTAT</th>\n",
       "      <th>DATECODE</th>\n",
       "      <th>EMPLOYMENT</th>\n",
       "      <th>SALARY</th>\n",
       "      <th>LOS</th>\n",
       "    </tr>\n",
       "  </thead>\n",
       "  <tbody>\n",
       "    <tr>\n",
       "      <th>0</th>\n",
       "      <td>AA00</td>\n",
       "      <td>11</td>\n",
       "      <td>F</td>\n",
       "      <td>13</td>\n",
       "      <td>NaN</td>\n",
       "      <td>G</td>\n",
       "      <td>0340</td>\n",
       "      <td>2</td>\n",
       "      <td>ES</td>\n",
       "      <td>ES-**</td>\n",
       "      <td>20</td>\n",
       "      <td>XXXX</td>\n",
       "      <td>2</td>\n",
       "      <td>50</td>\n",
       "      <td>F</td>\n",
       "      <td>1</td>\n",
       "      <td>202403</td>\n",
       "      <td>1</td>\n",
       "      <td>210000.0</td>\n",
       "      <td>20.8</td>\n",
       "    </tr>\n",
       "    <tr>\n",
       "      <th>1</th>\n",
       "      <td>AA00</td>\n",
       "      <td>11</td>\n",
       "      <td>J</td>\n",
       "      <td>15</td>\n",
       "      <td>NaN</td>\n",
       "      <td>I</td>\n",
       "      <td>0905</td>\n",
       "      <td>1</td>\n",
       "      <td>ES</td>\n",
       "      <td>ES-**</td>\n",
       "      <td>20</td>\n",
       "      <td>XXXX</td>\n",
       "      <td>2</td>\n",
       "      <td>50</td>\n",
       "      <td>F</td>\n",
       "      <td>1</td>\n",
       "      <td>202403</td>\n",
       "      <td>1</td>\n",
       "      <td>203000.0</td>\n",
       "      <td>31.2</td>\n",
       "    </tr>\n",
       "    <tr>\n",
       "      <th>2</th>\n",
       "      <td>AA00</td>\n",
       "      <td>11</td>\n",
       "      <td>K</td>\n",
       "      <td>04</td>\n",
       "      <td>NaN</td>\n",
       "      <td>G</td>\n",
       "      <td>0301</td>\n",
       "      <td>2</td>\n",
       "      <td>99</td>\n",
       "      <td>EX-02</td>\n",
       "      <td>30</td>\n",
       "      <td>XXXX</td>\n",
       "      <td>2</td>\n",
       "      <td>48</td>\n",
       "      <td>F</td>\n",
       "      <td>2</td>\n",
       "      <td>202403</td>\n",
       "      <td>1</td>\n",
       "      <td>NaN</td>\n",
       "      <td>22.0</td>\n",
       "    </tr>\n",
       "    <tr>\n",
       "      <th>3</th>\n",
       "      <td>AA00</td>\n",
       "      <td>11</td>\n",
       "      <td>C</td>\n",
       "      <td>04</td>\n",
       "      <td>12</td>\n",
       "      <td>B</td>\n",
       "      <td>0560</td>\n",
       "      <td>2</td>\n",
       "      <td>99</td>\n",
       "      <td>GS-12</td>\n",
       "      <td>9</td>\n",
       "      <td>XXXX</td>\n",
       "      <td>8</td>\n",
       "      <td>15</td>\n",
       "      <td>F</td>\n",
       "      <td>1</td>\n",
       "      <td>202403</td>\n",
       "      <td>1</td>\n",
       "      <td>99200.0</td>\n",
       "      <td>2.5</td>\n",
       "    </tr>\n",
       "    <tr>\n",
       "      <th>4</th>\n",
       "      <td>AA00</td>\n",
       "      <td>11</td>\n",
       "      <td>D</td>\n",
       "      <td>04</td>\n",
       "      <td>13</td>\n",
       "      <td>B</td>\n",
       "      <td>0905</td>\n",
       "      <td>1</td>\n",
       "      <td>99</td>\n",
       "      <td>GS-13</td>\n",
       "      <td>11</td>\n",
       "      <td>XXXX</td>\n",
       "      <td>8</td>\n",
       "      <td>30</td>\n",
       "      <td>F</td>\n",
       "      <td>1</td>\n",
       "      <td>202403</td>\n",
       "      <td>1</td>\n",
       "      <td>117962.0</td>\n",
       "      <td>2.5</td>\n",
       "    </tr>\n",
       "  </tbody>\n",
       "</table>\n",
       "</div>"
      ],
      "text/plain": [
       "  AGYSUB LOC AGELVL EDLVL GSEGRD LOSLVL   OCC  PATCO  PP  PPGRD  SALLVL  \\\n",
       "0   AA00  11      F    13    NaN      G  0340      2  ES  ES-**      20   \n",
       "1   AA00  11      J    15    NaN      I  0905      1  ES  ES-**      20   \n",
       "2   AA00  11      K    04    NaN      G  0301      2  99  EX-02      30   \n",
       "3   AA00  11      C    04     12      B  0560      2  99  GS-12       9   \n",
       "4   AA00  11      D    04     13      B  0905      1  99  GS-13      11   \n",
       "\n",
       "  STEMOCC SUPERVIS TOA WORKSCH  WORKSTAT  DATECODE  EMPLOYMENT    SALARY   LOS  \n",
       "0    XXXX        2  50       F         1    202403           1  210000.0  20.8  \n",
       "1    XXXX        2  50       F         1    202403           1  203000.0  31.2  \n",
       "2    XXXX        2  48       F         2    202403           1       NaN  22.0  \n",
       "3    XXXX        8  15       F         1    202403           1   99200.0   2.5  \n",
       "4    XXXX        8  30       F         1    202403           1  117962.0   2.5  "
      ]
     },
     "execution_count": 7,
     "metadata": {},
     "output_type": "execute_result"
    }
   ],
   "source": [
    "df_fact.head()"
   ]
  },
  {
   "cell_type": "markdown",
   "id": "51109b26",
   "metadata": {},
   "source": [
    "# Exploratory Analysis\n",
    "\n",
    "- Geographical distribution\n",
    "- Number of workers by Agency\n",
    "- Most common job series\n",
    "- ..."
   ]
  },
  {
   "cell_type": "code",
   "execution_count": 8,
   "id": "11f601cc",
   "metadata": {},
   "outputs": [
    {
     "data": {
      "text/plain": [
       "2278730"
      ]
     },
     "execution_count": 8,
     "metadata": {},
     "output_type": "execute_result"
    }
   ],
   "source": [
    "total_count = df_fact.shape[0]\n",
    "total_count"
   ]
  },
  {
   "cell_type": "markdown",
   "id": "6f86ccf6",
   "metadata": {},
   "source": [
    "## by Number of Employees"
   ]
  },
  {
   "cell_type": "code",
   "execution_count": 9,
   "id": "d8e56012",
   "metadata": {},
   "outputs": [],
   "source": [
    "agy_df=pd.read_csv('DTagy.txt')"
   ]
  },
  {
   "cell_type": "code",
   "execution_count": 10,
   "id": "e848538f",
   "metadata": {},
   "outputs": [],
   "source": [
    "# AGYTYP,AGYTYPT,AGY,AGYT,AGYSUB,AGYSUBT\n",
    "agency_freq=df_fact['AGYSUB'].value_counts().to_frame().reset_index().merge(agy_df, on = 'AGYSUB')\n",
    "agency_freq['proportion'] = agency_freq['count'] / total_count"
   ]
  },
  {
   "cell_type": "code",
   "execution_count": 11,
   "id": "6c27ab9e",
   "metadata": {},
   "outputs": [
    {
     "data": {
      "text/html": [
       "<div>\n",
       "<style scoped>\n",
       "    .dataframe tbody tr th:only-of-type {\n",
       "        vertical-align: middle;\n",
       "    }\n",
       "\n",
       "    .dataframe tbody tr th {\n",
       "        vertical-align: top;\n",
       "    }\n",
       "\n",
       "    .dataframe thead th {\n",
       "        text-align: right;\n",
       "    }\n",
       "</style>\n",
       "<table border=\"1\" class=\"dataframe\">\n",
       "  <thead>\n",
       "    <tr style=\"text-align: right;\">\n",
       "      <th></th>\n",
       "      <th>AGYSUBT</th>\n",
       "      <th>count</th>\n",
       "      <th>proportion</th>\n",
       "    </tr>\n",
       "  </thead>\n",
       "  <tbody>\n",
       "    <tr>\n",
       "      <th>0</th>\n",
       "      <td>VATA-VETERANS HEALTH ADMINISTRATION</td>\n",
       "      <td>432908</td>\n",
       "      <td>0.189978</td>\n",
       "    </tr>\n",
       "    <tr>\n",
       "      <th>1</th>\n",
       "      <td>TR93-INTERNAL REVENUE SERVICE</td>\n",
       "      <td>93937</td>\n",
       "      <td>0.041223</td>\n",
       "    </tr>\n",
       "    <tr>\n",
       "      <th>2</th>\n",
       "      <td>AF1M-AIR FORCE MATERIEL COMMAND</td>\n",
       "      <td>70084</td>\n",
       "      <td>0.030756</td>\n",
       "    </tr>\n",
       "    <tr>\n",
       "      <th>3</th>\n",
       "      <td>HSBD-CUSTOMS AND BORDER PROTECTION</td>\n",
       "      <td>65268</td>\n",
       "      <td>0.028642</td>\n",
       "    </tr>\n",
       "    <tr>\n",
       "      <th>4</th>\n",
       "      <td>HSBC-TRANSPORTATION SECURITY ADMINISTRATION</td>\n",
       "      <td>62788</td>\n",
       "      <td>0.027554</td>\n",
       "    </tr>\n",
       "    <tr>\n",
       "      <th>5</th>\n",
       "      <td>SZ00-SOCIAL SECURITY ADMINISTRATION</td>\n",
       "      <td>59227</td>\n",
       "      <td>0.025991</td>\n",
       "    </tr>\n",
       "    <tr>\n",
       "      <th>6</th>\n",
       "      <td>DD83-MILITARY TREATMENT FACILITIES UNDER DHA</td>\n",
       "      <td>45754</td>\n",
       "      <td>0.020079</td>\n",
       "    </tr>\n",
       "    <tr>\n",
       "      <th>7</th>\n",
       "      <td>TD03-FEDERAL AVIATION ADMINISTRATION</td>\n",
       "      <td>45306</td>\n",
       "      <td>0.019882</td>\n",
       "    </tr>\n",
       "    <tr>\n",
       "      <th>8</th>\n",
       "      <td>ARCE-U.S. ARMY CORPS OF ENGINEERS</td>\n",
       "      <td>38079</td>\n",
       "      <td>0.016711</td>\n",
       "    </tr>\n",
       "    <tr>\n",
       "      <th>9</th>\n",
       "      <td>DJ02-FEDERAL BUREAU OF INVESTIGATION</td>\n",
       "      <td>37394</td>\n",
       "      <td>0.016410</td>\n",
       "    </tr>\n",
       "  </tbody>\n",
       "</table>\n",
       "</div>"
      ],
      "text/plain": [
       "                                        AGYSUBT   count  proportion\n",
       "0           VATA-VETERANS HEALTH ADMINISTRATION  432908    0.189978\n",
       "1                 TR93-INTERNAL REVENUE SERVICE   93937    0.041223\n",
       "2               AF1M-AIR FORCE MATERIEL COMMAND   70084    0.030756\n",
       "3            HSBD-CUSTOMS AND BORDER PROTECTION   65268    0.028642\n",
       "4   HSBC-TRANSPORTATION SECURITY ADMINISTRATION   62788    0.027554\n",
       "5           SZ00-SOCIAL SECURITY ADMINISTRATION   59227    0.025991\n",
       "6  DD83-MILITARY TREATMENT FACILITIES UNDER DHA   45754    0.020079\n",
       "7          TD03-FEDERAL AVIATION ADMINISTRATION   45306    0.019882\n",
       "8             ARCE-U.S. ARMY CORPS OF ENGINEERS   38079    0.016711\n",
       "9          DJ02-FEDERAL BUREAU OF INVESTIGATION   37394    0.016410"
      ]
     },
     "execution_count": 11,
     "metadata": {},
     "output_type": "execute_result"
    }
   ],
   "source": [
    "# Top 10 agencies by number of employees\n",
    "agency_freq[['AGYSUBT','count','proportion']].head(10)"
   ]
  },
  {
   "cell_type": "markdown",
   "id": "155f7d3c",
   "metadata": {},
   "source": [
    "## by Job Series (Occupation)"
   ]
  },
  {
   "cell_type": "code",
   "execution_count": 12,
   "id": "3f6ae79b",
   "metadata": {},
   "outputs": [],
   "source": [
    "occ = pd.read_csv('DTocc.txt')"
   ]
  },
  {
   "cell_type": "code",
   "execution_count": 13,
   "id": "eb3d5eb7",
   "metadata": {},
   "outputs": [],
   "source": [
    "occ_freq=df_fact[['OCC']].value_counts().to_frame().reset_index().merge(occ, on='OCC')\n",
    "occ_freq['proportion'] = occ_freq['count'] / total_count"
   ]
  },
  {
   "cell_type": "code",
   "execution_count": 14,
   "id": "95a52a8d",
   "metadata": {},
   "outputs": [
    {
     "data": {
      "text/html": [
       "<div>\n",
       "<style scoped>\n",
       "    .dataframe tbody tr th:only-of-type {\n",
       "        vertical-align: middle;\n",
       "    }\n",
       "\n",
       "    .dataframe tbody tr th {\n",
       "        vertical-align: top;\n",
       "    }\n",
       "\n",
       "    .dataframe thead th {\n",
       "        text-align: right;\n",
       "    }\n",
       "</style>\n",
       "<table border=\"1\" class=\"dataframe\">\n",
       "  <thead>\n",
       "    <tr style=\"text-align: right;\">\n",
       "      <th></th>\n",
       "      <th>OCCT</th>\n",
       "      <th>count</th>\n",
       "      <th>proportion</th>\n",
       "    </tr>\n",
       "  </thead>\n",
       "  <tbody>\n",
       "    <tr>\n",
       "      <th>0</th>\n",
       "      <td>0301-MISCELLANEOUS ADMINISTRATION AND PROGRAM</td>\n",
       "      <td>111418</td>\n",
       "      <td>0.048895</td>\n",
       "    </tr>\n",
       "    <tr>\n",
       "      <th>1</th>\n",
       "      <td>0610-NURSE</td>\n",
       "      <td>111303</td>\n",
       "      <td>0.048844</td>\n",
       "    </tr>\n",
       "    <tr>\n",
       "      <th>2</th>\n",
       "      <td>2210-INFORMATION TECHNOLOGY MANAGEMENT</td>\n",
       "      <td>99051</td>\n",
       "      <td>0.043468</td>\n",
       "    </tr>\n",
       "    <tr>\n",
       "      <th>3</th>\n",
       "      <td>0343-MANAGEMENT AND PROGRAM ANALYSIS</td>\n",
       "      <td>94333</td>\n",
       "      <td>0.041397</td>\n",
       "    </tr>\n",
       "    <tr>\n",
       "      <th>4</th>\n",
       "      <td>1802-COMPLIANCE INSPECTION AND SUPPORT</td>\n",
       "      <td>55782</td>\n",
       "      <td>0.024479</td>\n",
       "    </tr>\n",
       "    <tr>\n",
       "      <th>5</th>\n",
       "      <td>0303-MISCELLANEOUS CLERK AND ASSISTANT</td>\n",
       "      <td>48493</td>\n",
       "      <td>0.021281</td>\n",
       "    </tr>\n",
       "    <tr>\n",
       "      <th>6</th>\n",
       "      <td>0905-GENERAL ATTORNEY</td>\n",
       "      <td>44317</td>\n",
       "      <td>0.019448</td>\n",
       "    </tr>\n",
       "    <tr>\n",
       "      <th>7</th>\n",
       "      <td>1811-CRIMINAL INVESTIGATION</td>\n",
       "      <td>44171</td>\n",
       "      <td>0.019384</td>\n",
       "    </tr>\n",
       "    <tr>\n",
       "      <th>8</th>\n",
       "      <td>1102-CONTRACTING</td>\n",
       "      <td>43549</td>\n",
       "      <td>0.019111</td>\n",
       "    </tr>\n",
       "    <tr>\n",
       "      <th>9</th>\n",
       "      <td>0679-MEDICAL SUPPORT ASSISTANCE</td>\n",
       "      <td>42599</td>\n",
       "      <td>0.018694</td>\n",
       "    </tr>\n",
       "  </tbody>\n",
       "</table>\n",
       "</div>"
      ],
      "text/plain": [
       "                                            OCCT   count  proportion\n",
       "0  0301-MISCELLANEOUS ADMINISTRATION AND PROGRAM  111418    0.048895\n",
       "1                                     0610-NURSE  111303    0.048844\n",
       "2         2210-INFORMATION TECHNOLOGY MANAGEMENT   99051    0.043468\n",
       "3           0343-MANAGEMENT AND PROGRAM ANALYSIS   94333    0.041397\n",
       "4         1802-COMPLIANCE INSPECTION AND SUPPORT   55782    0.024479\n",
       "5         0303-MISCELLANEOUS CLERK AND ASSISTANT   48493    0.021281\n",
       "6                          0905-GENERAL ATTORNEY   44317    0.019448\n",
       "7                    1811-CRIMINAL INVESTIGATION   44171    0.019384\n",
       "8                               1102-CONTRACTING   43549    0.019111\n",
       "9                0679-MEDICAL SUPPORT ASSISTANCE   42599    0.018694"
      ]
     },
     "execution_count": 14,
     "metadata": {},
     "output_type": "execute_result"
    }
   ],
   "source": [
    "# top 10 occupations\n",
    "occ_freq[['OCCT','count','proportion']].head(10)"
   ]
  },
  {
   "cell_type": "markdown",
   "id": "273266bb",
   "metadata": {},
   "source": [
    "## by Location"
   ]
  },
  {
   "cell_type": "code",
   "execution_count": 15,
   "id": "d2ac8045",
   "metadata": {},
   "outputs": [],
   "source": [
    "loc = pd.read_csv('DTloc.txt')"
   ]
  },
  {
   "cell_type": "code",
   "execution_count": 16,
   "id": "9c3eedb3",
   "metadata": {},
   "outputs": [
    {
     "data": {
      "text/html": [
       "<div>\n",
       "<style scoped>\n",
       "    .dataframe tbody tr th:only-of-type {\n",
       "        vertical-align: middle;\n",
       "    }\n",
       "\n",
       "    .dataframe tbody tr th {\n",
       "        vertical-align: top;\n",
       "    }\n",
       "\n",
       "    .dataframe thead th {\n",
       "        text-align: right;\n",
       "    }\n",
       "</style>\n",
       "<table border=\"1\" class=\"dataframe\">\n",
       "  <thead>\n",
       "    <tr style=\"text-align: right;\">\n",
       "      <th></th>\n",
       "      <th>LOCTYP</th>\n",
       "      <th>LOCTYPT</th>\n",
       "      <th>LOC</th>\n",
       "      <th>LOCT</th>\n",
       "    </tr>\n",
       "  </thead>\n",
       "  <tbody>\n",
       "    <tr>\n",
       "      <th>0</th>\n",
       "      <td>1</td>\n",
       "      <td>United States</td>\n",
       "      <td>01</td>\n",
       "      <td>01-ALABAMA</td>\n",
       "    </tr>\n",
       "    <tr>\n",
       "      <th>1</th>\n",
       "      <td>1</td>\n",
       "      <td>United States</td>\n",
       "      <td>02</td>\n",
       "      <td>02-ALASKA</td>\n",
       "    </tr>\n",
       "    <tr>\n",
       "      <th>2</th>\n",
       "      <td>1</td>\n",
       "      <td>United States</td>\n",
       "      <td>04</td>\n",
       "      <td>04-ARIZONA</td>\n",
       "    </tr>\n",
       "    <tr>\n",
       "      <th>3</th>\n",
       "      <td>1</td>\n",
       "      <td>United States</td>\n",
       "      <td>05</td>\n",
       "      <td>05-ARKANSAS</td>\n",
       "    </tr>\n",
       "    <tr>\n",
       "      <th>4</th>\n",
       "      <td>1</td>\n",
       "      <td>United States</td>\n",
       "      <td>06</td>\n",
       "      <td>06-CALIFORNIA</td>\n",
       "    </tr>\n",
       "  </tbody>\n",
       "</table>\n",
       "</div>"
      ],
      "text/plain": [
       "   LOCTYP        LOCTYPT LOC           LOCT\n",
       "0       1  United States  01     01-ALABAMA\n",
       "1       1  United States  02      02-ALASKA\n",
       "2       1  United States  04     04-ARIZONA\n",
       "3       1  United States  05    05-ARKANSAS\n",
       "4       1  United States  06  06-CALIFORNIA"
      ]
     },
     "execution_count": 16,
     "metadata": {},
     "output_type": "execute_result"
    }
   ],
   "source": [
    "loc.head()"
   ]
  },
  {
   "cell_type": "code",
   "execution_count": 17,
   "id": "e5267261",
   "metadata": {},
   "outputs": [],
   "source": [
    "loc_freq=df_fact[['LOC']].value_counts().\\\n",
    "to_frame().reset_index().merge(loc[['LOCTYP','LOC','LOCT']], on = 'LOC')\n",
    "loc_freq['proportion'] = loc_freq['count'] / total_count"
   ]
  },
  {
   "cell_type": "code",
   "execution_count": 18,
   "id": "56d37d14",
   "metadata": {},
   "outputs": [],
   "source": [
    "loc_freq_us = loc_freq.loc[loc_freq['LOCTYP']==1]"
   ]
  },
  {
   "cell_type": "code",
   "execution_count": 19,
   "id": "759d1018",
   "metadata": {},
   "outputs": [],
   "source": [
    "loc_freq_us_50st = loc_freq_us.loc[loc_freq_us['LOC'] != 'US']"
   ]
  },
  {
   "cell_type": "code",
   "execution_count": 23,
   "id": "abaa9803",
   "metadata": {},
   "outputs": [
    {
     "name": "stderr",
     "output_type": "stream",
     "text": [
      "/var/folders/n9/04pbbq7530z_9231l9_lbz740000gn/T/ipykernel_83204/86073316.py:1: SettingWithCopyWarning: \n",
      "A value is trying to be set on a copy of a slice from a DataFrame.\n",
      "Try using .loc[row_indexer,col_indexer] = value instead\n",
      "\n",
      "See the caveats in the documentation: https://pandas.pydata.org/pandas-docs/stable/user_guide/indexing.html#returning-a-view-versus-a-copy\n",
      "  loc_freq_us_50st['STATE']=[st.split('-')[-1].strip() for st in loc_freq_us_50st['LOCT']]\n",
      "/var/folders/n9/04pbbq7530z_9231l9_lbz740000gn/T/ipykernel_83204/86073316.py:2: SettingWithCopyWarning: \n",
      "A value is trying to be set on a copy of a slice from a DataFrame\n",
      "\n",
      "See the caveats in the documentation: https://pandas.pydata.org/pandas-docs/stable/user_guide/indexing.html#returning-a-view-versus-a-copy\n",
      "  loc_freq_us_50st.drop(columns = ['LOCTYP','LOCT'], inplace=True)\n"
     ]
    }
   ],
   "source": [
    "loc_freq_us_50st['STATE']=[st.split('-')[-1].strip() for st in loc_freq_us_50st['LOCT']]\n",
    "loc_freq_us_50st.drop(columns = ['LOCTYP','LOCT'], inplace=True)"
   ]
  },
  {
   "cell_type": "code",
   "execution_count": 25,
   "id": "6d0088c3",
   "metadata": {},
   "outputs": [
    {
     "data": {
      "text/html": [
       "<div>\n",
       "<style scoped>\n",
       "    .dataframe tbody tr th:only-of-type {\n",
       "        vertical-align: middle;\n",
       "    }\n",
       "\n",
       "    .dataframe tbody tr th {\n",
       "        vertical-align: top;\n",
       "    }\n",
       "\n",
       "    .dataframe thead th {\n",
       "        text-align: right;\n",
       "    }\n",
       "</style>\n",
       "<table border=\"1\" class=\"dataframe\">\n",
       "  <thead>\n",
       "    <tr style=\"text-align: right;\">\n",
       "      <th></th>\n",
       "      <th>LOC</th>\n",
       "      <th>count</th>\n",
       "      <th>proportion</th>\n",
       "      <th>STATE</th>\n",
       "    </tr>\n",
       "  </thead>\n",
       "  <tbody>\n",
       "    <tr>\n",
       "      <th>1</th>\n",
       "      <td>11</td>\n",
       "      <td>162144</td>\n",
       "      <td>0.071155</td>\n",
       "      <td>DISTRICT OF COLUMBIA</td>\n",
       "    </tr>\n",
       "    <tr>\n",
       "      <th>2</th>\n",
       "      <td>06</td>\n",
       "      <td>147487</td>\n",
       "      <td>0.064723</td>\n",
       "      <td>CALIFORNIA</td>\n",
       "    </tr>\n",
       "    <tr>\n",
       "      <th>3</th>\n",
       "      <td>51</td>\n",
       "      <td>144483</td>\n",
       "      <td>0.063405</td>\n",
       "      <td>VIRGINIA</td>\n",
       "    </tr>\n",
       "    <tr>\n",
       "      <th>4</th>\n",
       "      <td>24</td>\n",
       "      <td>142876</td>\n",
       "      <td>0.062700</td>\n",
       "      <td>MARYLAND</td>\n",
       "    </tr>\n",
       "    <tr>\n",
       "      <th>5</th>\n",
       "      <td>48</td>\n",
       "      <td>129738</td>\n",
       "      <td>0.056934</td>\n",
       "      <td>TEXAS</td>\n",
       "    </tr>\n",
       "  </tbody>\n",
       "</table>\n",
       "</div>"
      ],
      "text/plain": [
       "  LOC   count  proportion                 STATE\n",
       "1  11  162144    0.071155  DISTRICT OF COLUMBIA\n",
       "2  06  147487    0.064723            CALIFORNIA\n",
       "3  51  144483    0.063405              VIRGINIA\n",
       "4  24  142876    0.062700              MARYLAND\n",
       "5  48  129738    0.056934                 TEXAS"
      ]
     },
     "execution_count": 25,
     "metadata": {},
     "output_type": "execute_result"
    }
   ],
   "source": [
    "loc_freq_us_50st.head()"
   ]
  },
  {
   "cell_type": "code",
   "execution_count": 21,
   "id": "0e8bafec",
   "metadata": {},
   "outputs": [],
   "source": [
    "import geopandas as gpd\n",
    "from matplotlib import pyplot as plt"
   ]
  },
  {
   "cell_type": "code",
   "execution_count": 26,
   "id": "af29a219",
   "metadata": {},
   "outputs": [
    {
     "name": "stdout",
     "output_type": "stream",
     "text": [
      "Path to the folder of shape files: ········\n"
     ]
    }
   ],
   "source": [
    "geo_directory = '{}'.format(getpass.getpass('Path to the folder of shape files: '))"
   ]
  },
  {
   "cell_type": "code",
   "execution_count": 28,
   "id": "566611bf",
   "metadata": {},
   "outputs": [
    {
     "data": {
      "text/plain": [
       "['tl_2024_us_state.dbf',\n",
       " 'tl_2024_us_state.shp',\n",
       " 'tl_2024_us_state.cpg',\n",
       " 'tl_2024_us_state.shx',\n",
       " 'tl_2024_us_state.shp.iso.xml',\n",
       " 'tl_2024_us_state.shp.ea.iso.xml',\n",
       " 'tl_2024_us_state.prj']"
      ]
     },
     "execution_count": 28,
     "metadata": {},
     "output_type": "execute_result"
    }
   ],
   "source": [
    "os.listdir(geo_directory)"
   ]
  },
  {
   "cell_type": "code",
   "execution_count": 30,
   "id": "478ab7ce",
   "metadata": {},
   "outputs": [
    {
     "name": "stdout",
     "output_type": "stream",
     "text": [
      "CPU times: user 1.66 s, sys: 19 ms, total: 1.68 s\n",
      "Wall time: 1.68 s\n"
     ]
    }
   ],
   "source": [
    "%%time\n",
    "state_dbf=gpd.read_file(geo_directory + r'/tl_2024_us_state.dbf')"
   ]
  },
  {
   "cell_type": "code",
   "execution_count": 32,
   "id": "27461811",
   "metadata": {},
   "outputs": [
    {
     "data": {
      "text/plain": [
       "geopandas.geodataframe.GeoDataFrame"
      ]
     },
     "execution_count": 32,
     "metadata": {},
     "output_type": "execute_result"
    }
   ],
   "source": [
    "type(state_dbf)"
   ]
  },
  {
   "cell_type": "code",
   "execution_count": 34,
   "id": "b40f15de",
   "metadata": {},
   "outputs": [],
   "source": [
    "loc_us_50st_dbf_full=loc_freq_us_50st.merge(state_dbf,\n",
    "                                            left_on='LOC',right_on='STATEFP',\n",
    "                                            how='left').drop(columns=['STATE'])\n",
    "# convert to GeoDataFrame\n",
    "loc_us_50st_dbf_full=gpd.GeoDataFrame(loc_us_50st_dbf_full)"
   ]
  },
  {
   "cell_type": "code",
   "execution_count": 40,
   "id": "9a3fb871",
   "metadata": {},
   "outputs": [
    {
     "data": {
      "text/plain": [
       "geopandas.geodataframe.GeoDataFrame"
      ]
     },
     "execution_count": 40,
     "metadata": {},
     "output_type": "execute_result"
    }
   ],
   "source": [
    "type(loc_us_50st_dbf_full)"
   ]
  },
  {
   "cell_type": "code",
   "execution_count": 43,
   "id": "fa6df624",
   "metadata": {},
   "outputs": [
    {
     "data": {
      "image/png": "[encoded data removed]",
      "text/plain": [
       "<Figure size 640x480 with 1 Axes>"
      ]
     },
     "metadata": {},
     "output_type": "display_data"
    }
   ],
   "source": [
    "# will fix the map later\n",
    "loc_us_50st_dbf_full[['count','geometry','NAME','STUSPS']].plot(column = 'count')\n",
    "plt.show()"
   ]
  },
  {
   "cell_type": "code",
   "execution_count": 46,
   "id": "c785f91f",
   "metadata": {},
   "outputs": [],
   "source": [
    "#loc_us_50st_dbf_full.to_file('st_distribution_us_only.shp')"
   ]
  },
  {
   "cell_type": "code",
   "execution_count": 141,
   "id": "81fcbcbc",
   "metadata": {},
   "outputs": [
    {
     "data": {
      "image/png": "[encoded data removed]",
      "text/plain": [
       "<Figure size 640x480 with 2 Axes>"
      ]
     },
     "metadata": {},
     "output_type": "display_data"
    }
   ],
   "source": [
    "loc_us_50st_dbf_full[(loc_us_50st_dbf_full['LOC']!='02') & (loc_us_50st_dbf_full['LOC']!='15')]\\\n",
    ".plot(column = 'count', legend = True, legend_kwds = {'orientation':'horizontal'})\n",
    "plt.axis('off')\n",
    "plt.show()\n",
    "plt.close()"
   ]
  },
  {
   "cell_type": "code",
   "execution_count": 131,
   "id": "a8f8eb4b",
   "metadata": {},
   "outputs": [
    {
     "data": {
      "text/plain": [
       "162144"
      ]
     },
     "execution_count": 131,
     "metadata": {},
     "output_type": "execute_result"
    }
   ],
   "source": [
    "loc_us_50st_dbf_full['count'].max()"
   ]
  },
  {
   "cell_type": "code",
   "execution_count": 143,
   "id": "f01ace44",
   "metadata": {},
   "outputs": [
    {
     "data": {
      "image/png": "[encoded data removed]",
      "text/plain": [
       "<Figure size 600x900 with 3 Axes>"
      ]
     },
     "metadata": {},
     "output_type": "display_data"
    }
   ],
   "source": [
    "# importing required library\n",
    "import matplotlib.pyplot as plt\n",
    "\n",
    "# creating grid for subplots\n",
    "fig = plt.figure()\n",
    "fig.set_figheight(9)\n",
    "fig.set_figwidth(6)\n",
    "# , colspan=3, rowspan = 2\n",
    "ax1 = plt.subplot2grid(shape=(2, 1), loc=(0, 0))\n",
    "ax2 = plt.subplot2grid(shape=(2, 2), loc=(1, 0))\n",
    "ax3 = plt.subplot2grid(shape=(2, 2), loc=(1, 1))\n",
    "\n",
    "# 1\n",
    "loc_us_50st_dbf_full[(loc_us_50st_dbf_full['LOC']!='02') & (loc_us_50st_dbf_full['LOC']!='15')]\\\n",
    ".plot(ax = ax1,column = 'count')\n",
    "#ax1.set_axis_off()\n",
    "#2\n",
    "loc_us_50st_dbf_full[loc_us_50st_dbf_full['LOC']=='02']\\\n",
    ".plot(ax = ax2,column = 'count')\n",
    "#ax2.set_axis_off()\n",
    "ax2.set_xlim(-179.9, -130) # set longitude range\n",
    "# 3\n",
    "loc_us_50st_dbf_full[loc_us_50st_dbf_full['LOC']=='15']\\\n",
    ".plot(ax = ax3,column = 'count')\n",
    "#ax3.set_axis_off()\n",
    "\n",
    "plt.tight_layout()\n",
    "# display plot\n",
    "plt.show()"
   ]
  }
 ],
 "metadata": {
  "hide_input": false,
  "kernelspec": {
   "display_name": "python3.12.1",
   "language": "python",
   "name": "py312"
  },
  "language_info": {
   "codemirror_mode": {
    "name": "ipython",
    "version": 3
   },
   "file_extension": ".py",
   "mimetype": "text/x-python",
   "name": "python",
   "nbconvert_exporter": "python",
   "pygments_lexer": "ipython3",
   "version": "3.12.2"
  },
  "toc": {
   "base_numbering": 1,
   "nav_menu": {},
   "number_sections": true,
   "sideBar": true,
   "skip_h1_title": false,
   "title_cell": "Table of Contents",
   "title_sidebar": "Contents",
   "toc_cell": false,
   "toc_position": {},
   "toc_section_display": true,
   "toc_window_display": false
  },
  "varInspector": {
   "cols": {
    "lenName": 16,
    "lenType": 16,
    "lenVar": 40
   },
   "kernels_config": {
    "python": {
     "delete_cmd_postfix": "",
     "delete_cmd_prefix": "del ",
     "library": "var_list.py",
     "varRefreshCmd": "print(var_dic_list())"
    },
    "r": {
     "delete_cmd_postfix": ") ",
     "delete_cmd_prefix": "rm(",
     "library": "var_list.r",
     "varRefreshCmd": "cat(var_dic_list()) "
    }
   },
   "types_to_exclude": [
    "module",
    "function",
    "builtin_function_or_method",
    "instance",
    "_Feature"
   ],
   "window_display": false
  }
 },
 "nbformat": 4,
 "nbformat_minor": 5
}
