{
 "cells": [
  {
   "cell_type": "markdown",
   "id": "485d904e",
   "metadata": {},
   "source": [
    "# OPM Federal Workforce Fact Data\n",
    "\n",
    "- Exploratory analysis of March 2024 (most recent available to public) OPM data\n",
    "- Facts about the federal workforce"
   ]
  },
  {
   "cell_type": "code",
   "execution_count": 1,
   "id": "c013804d",
   "metadata": {},
   "outputs": [],
   "source": [
    "import pandas as pd\n",
    "import getpass\n",
    "import matplotlib.pyplot as plt\n",
    "import os"
   ]
  },
  {
   "cell_type": "code",
   "execution_count": 3,
   "id": "4b191922",
   "metadata": {},
   "outputs": [
    {
     "name": "stdout",
     "output_type": "stream",
     "text": [
      "Paste work directory path and then press enter: ········\n"
     ]
    }
   ],
   "source": [
    "work_directory = '{0}'.format(getpass.getpass('Paste work directory path and then press enter: '))"
   ]
  },
  {
   "cell_type": "code",
   "execution_count": 6,
   "id": "84461372",
   "metadata": {},
   "outputs": [],
   "source": [
    "os.chdir(work_directory)"
   ]
  },
  {
   "cell_type": "code",
   "execution_count": 8,
   "id": "e9cce9bb",
   "metadata": {},
   "outputs": [
    {
     "name": "stdout",
     "output_type": "stream",
     "text": [
      "['DTgsegrd.txt', 'FS_Employment_Mar2024_Documentation.pdf', 'DTwrksch.txt', 'FACTDATA_MAR2024.TXT', 'DTagy.txt', 'DTppgrd.txt', 'DTpatco.txt', 'DTdate.txt', 'DTagelvl.txt', 'DTsallvl.txt', 'DTwkstat.txt', 'DTsuper.txt', 'DTtoa.txt', 'DTocc.txt', 'DTpp.txt', 'ReadRawData_CreateTempDatasets_DataGov.sas', 'DTedlvl.txt', 'DTloslvl.txt', 'DTstemocc.txt', 'DTloc.txt']\n"
     ]
    }
   ],
   "source": [
    "print(os.listdir())"
   ]
  },
  {
   "cell_type": "markdown",
   "id": "6cc000d6",
   "metadata": {},
   "source": [
    "# Data"
   ]
  },
  {
   "cell_type": "code",
   "execution_count": 10,
   "id": "cafd77bb",
   "metadata": {},
   "outputs": [
    {
     "name": "stdout",
     "output_type": "stream",
     "text": [
      "CPU times: user 2.84 s, sys: 661 ms, total: 3.5 s\n",
      "Wall time: 3.5 s\n"
     ]
    }
   ],
   "source": [
    "%%time\n",
    "df_fact = pd.read_csv('FACTDATA_MAR2024.TXT', low_memory=False)"
   ]
  },
  {
   "cell_type": "code",
   "execution_count": 11,
   "id": "c637f35f",
   "metadata": {},
   "outputs": [
    {
     "name": "stdout",
     "output_type": "stream",
     "text": [
      "<class 'pandas.core.frame.DataFrame'>\n",
      "RangeIndex: 2278730 entries, 0 to 2278729\n",
      "Data columns (total 20 columns):\n",
      " #   Column      Dtype  \n",
      "---  ------      -----  \n",
      " 0   AGYSUB      object \n",
      " 1   LOC         object \n",
      " 2   AGELVL      object \n",
      " 3   EDLVL       object \n",
      " 4   GSEGRD      object \n",
      " 5   LOSLVL      object \n",
      " 6   OCC         object \n",
      " 7   PATCO       int64  \n",
      " 8   PP          object \n",
      " 9   PPGRD       object \n",
      " 10  SALLVL      int64  \n",
      " 11  STEMOCC     object \n",
      " 12  SUPERVIS    object \n",
      " 13  TOA         object \n",
      " 14  WORKSCH     object \n",
      " 15  WORKSTAT    int64  \n",
      " 16  DATECODE    int64  \n",
      " 17  EMPLOYMENT  int64  \n",
      " 18  SALARY      float64\n",
      " 19  LOS         float64\n",
      "dtypes: float64(2), int64(5), object(13)\n",
      "memory usage: 347.7+ MB\n"
     ]
    }
   ],
   "source": [
    "df_fact.info()"
   ]
  },
  {
   "cell_type": "code",
   "execution_count": 12,
   "id": "cf785497",
   "metadata": {},
   "outputs": [
    {
     "data": {
      "text/html": [
       "<div>\n",
       "<style scoped>\n",
       "    .dataframe tbody tr th:only-of-type {\n",
       "        vertical-align: middle;\n",
       "    }\n",
       "\n",
       "    .dataframe tbody tr th {\n",
       "        vertical-align: top;\n",
       "    }\n",
       "\n",
       "    .dataframe thead th {\n",
       "        text-align: right;\n",
       "    }\n",
       "</style>\n",
       "<table border=\"1\" class=\"dataframe\">\n",
       "  <thead>\n",
       "    <tr style=\"text-align: right;\">\n",
       "      <th></th>\n",
       "      <th>AGYSUB</th>\n",
       "      <th>LOC</th>\n",
       "      <th>AGELVL</th>\n",
       "      <th>EDLVL</th>\n",
       "      <th>GSEGRD</th>\n",
       "      <th>LOSLVL</th>\n",
       "      <th>OCC</th>\n",
       "      <th>PATCO</th>\n",
       "      <th>PP</th>\n",
       "      <th>PPGRD</th>\n",
       "      <th>SALLVL</th>\n",
       "      <th>STEMOCC</th>\n",
       "      <th>SUPERVIS</th>\n",
       "      <th>TOA</th>\n",
       "      <th>WORKSCH</th>\n",
       "      <th>WORKSTAT</th>\n",
       "      <th>DATECODE</th>\n",
       "      <th>EMPLOYMENT</th>\n",
       "      <th>SALARY</th>\n",
       "      <th>LOS</th>\n",
       "    </tr>\n",
       "  </thead>\n",
       "  <tbody>\n",
       "    <tr>\n",
       "      <th>0</th>\n",
       "      <td>AA00</td>\n",
       "      <td>11</td>\n",
       "      <td>F</td>\n",
       "      <td>13</td>\n",
       "      <td>NaN</td>\n",
       "      <td>G</td>\n",
       "      <td>0340</td>\n",
       "      <td>2</td>\n",
       "      <td>ES</td>\n",
       "      <td>ES-**</td>\n",
       "      <td>20</td>\n",
       "      <td>XXXX</td>\n",
       "      <td>2</td>\n",
       "      <td>50</td>\n",
       "      <td>F</td>\n",
       "      <td>1</td>\n",
       "      <td>202403</td>\n",
       "      <td>1</td>\n",
       "      <td>210000.0</td>\n",
       "      <td>20.8</td>\n",
       "    </tr>\n",
       "    <tr>\n",
       "      <th>1</th>\n",
       "      <td>AA00</td>\n",
       "      <td>11</td>\n",
       "      <td>J</td>\n",
       "      <td>15</td>\n",
       "      <td>NaN</td>\n",
       "      <td>I</td>\n",
       "      <td>0905</td>\n",
       "      <td>1</td>\n",
       "      <td>ES</td>\n",
       "      <td>ES-**</td>\n",
       "      <td>20</td>\n",
       "      <td>XXXX</td>\n",
       "      <td>2</td>\n",
       "      <td>50</td>\n",
       "      <td>F</td>\n",
       "      <td>1</td>\n",
       "      <td>202403</td>\n",
       "      <td>1</td>\n",
       "      <td>203000.0</td>\n",
       "      <td>31.2</td>\n",
       "    </tr>\n",
       "    <tr>\n",
       "      <th>2</th>\n",
       "      <td>AA00</td>\n",
       "      <td>11</td>\n",
       "      <td>K</td>\n",
       "      <td>04</td>\n",
       "      <td>NaN</td>\n",
       "      <td>G</td>\n",
       "      <td>0301</td>\n",
       "      <td>2</td>\n",
       "      <td>99</td>\n",
       "      <td>EX-02</td>\n",
       "      <td>30</td>\n",
       "      <td>XXXX</td>\n",
       "      <td>2</td>\n",
       "      <td>48</td>\n",
       "      <td>F</td>\n",
       "      <td>2</td>\n",
       "      <td>202403</td>\n",
       "      <td>1</td>\n",
       "      <td>NaN</td>\n",
       "      <td>22.0</td>\n",
       "    </tr>\n",
       "    <tr>\n",
       "      <th>3</th>\n",
       "      <td>AA00</td>\n",
       "      <td>11</td>\n",
       "      <td>C</td>\n",
       "      <td>04</td>\n",
       "      <td>12</td>\n",
       "      <td>B</td>\n",
       "      <td>0560</td>\n",
       "      <td>2</td>\n",
       "      <td>99</td>\n",
       "      <td>GS-12</td>\n",
       "      <td>9</td>\n",
       "      <td>XXXX</td>\n",
       "      <td>8</td>\n",
       "      <td>15</td>\n",
       "      <td>F</td>\n",
       "      <td>1</td>\n",
       "      <td>202403</td>\n",
       "      <td>1</td>\n",
       "      <td>99200.0</td>\n",
       "      <td>2.5</td>\n",
       "    </tr>\n",
       "    <tr>\n",
       "      <th>4</th>\n",
       "      <td>AA00</td>\n",
       "      <td>11</td>\n",
       "      <td>D</td>\n",
       "      <td>04</td>\n",
       "      <td>13</td>\n",
       "      <td>B</td>\n",
       "      <td>0905</td>\n",
       "      <td>1</td>\n",
       "      <td>99</td>\n",
       "      <td>GS-13</td>\n",
       "      <td>11</td>\n",
       "      <td>XXXX</td>\n",
       "      <td>8</td>\n",
       "      <td>30</td>\n",
       "      <td>F</td>\n",
       "      <td>1</td>\n",
       "      <td>202403</td>\n",
       "      <td>1</td>\n",
       "      <td>117962.0</td>\n",
       "      <td>2.5</td>\n",
       "    </tr>\n",
       "  </tbody>\n",
       "</table>\n",
       "</div>"
      ],
      "text/plain": [
       "  AGYSUB LOC AGELVL EDLVL GSEGRD LOSLVL   OCC  PATCO  PP  PPGRD  SALLVL  \\\n",
       "0   AA00  11      F    13    NaN      G  0340      2  ES  ES-**      20   \n",
       "1   AA00  11      J    15    NaN      I  0905      1  ES  ES-**      20   \n",
       "2   AA00  11      K    04    NaN      G  0301      2  99  EX-02      30   \n",
       "3   AA00  11      C    04     12      B  0560      2  99  GS-12       9   \n",
       "4   AA00  11      D    04     13      B  0905      1  99  GS-13      11   \n",
       "\n",
       "  STEMOCC SUPERVIS TOA WORKSCH  WORKSTAT  DATECODE  EMPLOYMENT    SALARY   LOS  \n",
       "0    XXXX        2  50       F         1    202403           1  210000.0  20.8  \n",
       "1    XXXX        2  50       F         1    202403           1  203000.0  31.2  \n",
       "2    XXXX        2  48       F         2    202403           1       NaN  22.0  \n",
       "3    XXXX        8  15       F         1    202403           1   99200.0   2.5  \n",
       "4    XXXX        8  30       F         1    202403           1  117962.0   2.5  "
      ]
     },
     "execution_count": 12,
     "metadata": {},
     "output_type": "execute_result"
    }
   ],
   "source": [
    "df_fact.head()"
   ]
  },
  {
   "cell_type": "markdown",
   "id": "abd3225d",
   "metadata": {},
   "source": [
    "# Exploratory Analysis\n",
    "\n",
    "- Geographical distribution\n",
    "- Number of workers by Agency\n",
    "- Most common job series\n",
    "- ..."
   ]
  },
  {
   "cell_type": "code",
   "execution_count": 35,
   "id": "e9de5af8",
   "metadata": {},
   "outputs": [
    {
     "data": {
      "text/plain": [
       "2278730"
      ]
     },
     "execution_count": 35,
     "metadata": {},
     "output_type": "execute_result"
    }
   ],
   "source": [
    "total_count = df_fact.shape[0]\n",
    "total_count"
   ]
  },
  {
   "cell_type": "markdown",
   "id": "72ed4ce7",
   "metadata": {},
   "source": [
    "## by Number of Employees"
   ]
  },
  {
   "cell_type": "code",
   "execution_count": 14,
   "id": "54b20da7",
   "metadata": {},
   "outputs": [],
   "source": [
    "agy_df=pd.read_csv('DTagy.txt')"
   ]
  },
  {
   "cell_type": "code",
   "execution_count": 36,
   "id": "579b405f",
   "metadata": {},
   "outputs": [],
   "source": [
    "# AGYTYP,AGYTYPT,AGY,AGYT,AGYSUB,AGYSUBT\n",
    "agency_freq=df_fact['AGYSUB'].value_counts().to_frame().reset_index().merge(agy_df, on = 'AGYSUB')\n",
    "agency_freq['proportion'] = agency_freq['count'] / total_count"
   ]
  },
  {
   "cell_type": "code",
   "execution_count": 37,
   "id": "5638cc4e",
   "metadata": {},
   "outputs": [
    {
     "data": {
      "text/html": [
       "<div>\n",
       "<style scoped>\n",
       "    .dataframe tbody tr th:only-of-type {\n",
       "        vertical-align: middle;\n",
       "    }\n",
       "\n",
       "    .dataframe tbody tr th {\n",
       "        vertical-align: top;\n",
       "    }\n",
       "\n",
       "    .dataframe thead th {\n",
       "        text-align: right;\n",
       "    }\n",
       "</style>\n",
       "<table border=\"1\" class=\"dataframe\">\n",
       "  <thead>\n",
       "    <tr style=\"text-align: right;\">\n",
       "      <th></th>\n",
       "      <th>AGYSUBT</th>\n",
       "      <th>count</th>\n",
       "      <th>proportion</th>\n",
       "    </tr>\n",
       "  </thead>\n",
       "  <tbody>\n",
       "    <tr>\n",
       "      <th>0</th>\n",
       "      <td>VATA-VETERANS HEALTH ADMINISTRATION</td>\n",
       "      <td>432908</td>\n",
       "      <td>0.189978</td>\n",
       "    </tr>\n",
       "    <tr>\n",
       "      <th>1</th>\n",
       "      <td>TR93-INTERNAL REVENUE SERVICE</td>\n",
       "      <td>93937</td>\n",
       "      <td>0.041223</td>\n",
       "    </tr>\n",
       "    <tr>\n",
       "      <th>2</th>\n",
       "      <td>AF1M-AIR FORCE MATERIEL COMMAND</td>\n",
       "      <td>70084</td>\n",
       "      <td>0.030756</td>\n",
       "    </tr>\n",
       "    <tr>\n",
       "      <th>3</th>\n",
       "      <td>HSBD-CUSTOMS AND BORDER PROTECTION</td>\n",
       "      <td>65268</td>\n",
       "      <td>0.028642</td>\n",
       "    </tr>\n",
       "    <tr>\n",
       "      <th>4</th>\n",
       "      <td>HSBC-TRANSPORTATION SECURITY ADMINISTRATION</td>\n",
       "      <td>62788</td>\n",
       "      <td>0.027554</td>\n",
       "    </tr>\n",
       "    <tr>\n",
       "      <th>5</th>\n",
       "      <td>SZ00-SOCIAL SECURITY ADMINISTRATION</td>\n",
       "      <td>59227</td>\n",
       "      <td>0.025991</td>\n",
       "    </tr>\n",
       "    <tr>\n",
       "      <th>6</th>\n",
       "      <td>DD83-MILITARY TREATMENT FACILITIES UNDER DHA</td>\n",
       "      <td>45754</td>\n",
       "      <td>0.020079</td>\n",
       "    </tr>\n",
       "    <tr>\n",
       "      <th>7</th>\n",
       "      <td>TD03-FEDERAL AVIATION ADMINISTRATION</td>\n",
       "      <td>45306</td>\n",
       "      <td>0.019882</td>\n",
       "    </tr>\n",
       "    <tr>\n",
       "      <th>8</th>\n",
       "      <td>ARCE-U.S. ARMY CORPS OF ENGINEERS</td>\n",
       "      <td>38079</td>\n",
       "      <td>0.016711</td>\n",
       "    </tr>\n",
       "    <tr>\n",
       "      <th>9</th>\n",
       "      <td>DJ02-FEDERAL BUREAU OF INVESTIGATION</td>\n",
       "      <td>37394</td>\n",
       "      <td>0.016410</td>\n",
       "    </tr>\n",
       "  </tbody>\n",
       "</table>\n",
       "</div>"
      ],
      "text/plain": [
       "                                        AGYSUBT   count  proportion\n",
       "0           VATA-VETERANS HEALTH ADMINISTRATION  432908    0.189978\n",
       "1                 TR93-INTERNAL REVENUE SERVICE   93937    0.041223\n",
       "2               AF1M-AIR FORCE MATERIEL COMMAND   70084    0.030756\n",
       "3            HSBD-CUSTOMS AND BORDER PROTECTION   65268    0.028642\n",
       "4   HSBC-TRANSPORTATION SECURITY ADMINISTRATION   62788    0.027554\n",
       "5           SZ00-SOCIAL SECURITY ADMINISTRATION   59227    0.025991\n",
       "6  DD83-MILITARY TREATMENT FACILITIES UNDER DHA   45754    0.020079\n",
       "7          TD03-FEDERAL AVIATION ADMINISTRATION   45306    0.019882\n",
       "8             ARCE-U.S. ARMY CORPS OF ENGINEERS   38079    0.016711\n",
       "9          DJ02-FEDERAL BUREAU OF INVESTIGATION   37394    0.016410"
      ]
     },
     "execution_count": 37,
     "metadata": {},
     "output_type": "execute_result"
    }
   ],
   "source": [
    "# Top 10 agencies by number of employees\n",
    "agency_freq[['AGYSUBT','count','proportion']].head(10)"
   ]
  },
  {
   "cell_type": "markdown",
   "id": "f3e879a0",
   "metadata": {},
   "source": [
    "## by Job Series (Occupation)"
   ]
  },
  {
   "cell_type": "code",
   "execution_count": 28,
   "id": "18ab204a",
   "metadata": {},
   "outputs": [],
   "source": [
    "occ = pd.read_csv('DTocc.txt')"
   ]
  },
  {
   "cell_type": "code",
   "execution_count": 38,
   "id": "6a8da421",
   "metadata": {},
   "outputs": [],
   "source": [
    "occ_freq=df_fact[['OCC']].value_counts().to_frame().reset_index().merge(occ, on='OCC')\n",
    "occ_freq['proportion'] = occ_freq['count'] / total_count"
   ]
  },
  {
   "cell_type": "code",
   "execution_count": 39,
   "id": "07b7c7f0",
   "metadata": {},
   "outputs": [
    {
     "data": {
      "text/html": [
       "<div>\n",
       "<style scoped>\n",
       "    .dataframe tbody tr th:only-of-type {\n",
       "        vertical-align: middle;\n",
       "    }\n",
       "\n",
       "    .dataframe tbody tr th {\n",
       "        vertical-align: top;\n",
       "    }\n",
       "\n",
       "    .dataframe thead th {\n",
       "        text-align: right;\n",
       "    }\n",
       "</style>\n",
       "<table border=\"1\" class=\"dataframe\">\n",
       "  <thead>\n",
       "    <tr style=\"text-align: right;\">\n",
       "      <th></th>\n",
       "      <th>OCCT</th>\n",
       "      <th>count</th>\n",
       "      <th>proportion</th>\n",
       "    </tr>\n",
       "  </thead>\n",
       "  <tbody>\n",
       "    <tr>\n",
       "      <th>0</th>\n",
       "      <td>0301-MISCELLANEOUS ADMINISTRATION AND PROGRAM</td>\n",
       "      <td>111418</td>\n",
       "      <td>0.048895</td>\n",
       "    </tr>\n",
       "    <tr>\n",
       "      <th>1</th>\n",
       "      <td>0610-NURSE</td>\n",
       "      <td>111303</td>\n",
       "      <td>0.048844</td>\n",
       "    </tr>\n",
       "    <tr>\n",
       "      <th>2</th>\n",
       "      <td>2210-INFORMATION TECHNOLOGY MANAGEMENT</td>\n",
       "      <td>99051</td>\n",
       "      <td>0.043468</td>\n",
       "    </tr>\n",
       "    <tr>\n",
       "      <th>3</th>\n",
       "      <td>0343-MANAGEMENT AND PROGRAM ANALYSIS</td>\n",
       "      <td>94333</td>\n",
       "      <td>0.041397</td>\n",
       "    </tr>\n",
       "    <tr>\n",
       "      <th>4</th>\n",
       "      <td>1802-COMPLIANCE INSPECTION AND SUPPORT</td>\n",
       "      <td>55782</td>\n",
       "      <td>0.024479</td>\n",
       "    </tr>\n",
       "    <tr>\n",
       "      <th>5</th>\n",
       "      <td>0303-MISCELLANEOUS CLERK AND ASSISTANT</td>\n",
       "      <td>48493</td>\n",
       "      <td>0.021281</td>\n",
       "    </tr>\n",
       "    <tr>\n",
       "      <th>6</th>\n",
       "      <td>0905-GENERAL ATTORNEY</td>\n",
       "      <td>44317</td>\n",
       "      <td>0.019448</td>\n",
       "    </tr>\n",
       "    <tr>\n",
       "      <th>7</th>\n",
       "      <td>1811-CRIMINAL INVESTIGATION</td>\n",
       "      <td>44171</td>\n",
       "      <td>0.019384</td>\n",
       "    </tr>\n",
       "    <tr>\n",
       "      <th>8</th>\n",
       "      <td>1102-CONTRACTING</td>\n",
       "      <td>43549</td>\n",
       "      <td>0.019111</td>\n",
       "    </tr>\n",
       "    <tr>\n",
       "      <th>9</th>\n",
       "      <td>0679-MEDICAL SUPPORT ASSISTANCE</td>\n",
       "      <td>42599</td>\n",
       "      <td>0.018694</td>\n",
       "    </tr>\n",
       "  </tbody>\n",
       "</table>\n",
       "</div>"
      ],
      "text/plain": [
       "                                            OCCT   count  proportion\n",
       "0  0301-MISCELLANEOUS ADMINISTRATION AND PROGRAM  111418    0.048895\n",
       "1                                     0610-NURSE  111303    0.048844\n",
       "2         2210-INFORMATION TECHNOLOGY MANAGEMENT   99051    0.043468\n",
       "3           0343-MANAGEMENT AND PROGRAM ANALYSIS   94333    0.041397\n",
       "4         1802-COMPLIANCE INSPECTION AND SUPPORT   55782    0.024479\n",
       "5         0303-MISCELLANEOUS CLERK AND ASSISTANT   48493    0.021281\n",
       "6                          0905-GENERAL ATTORNEY   44317    0.019448\n",
       "7                    1811-CRIMINAL INVESTIGATION   44171    0.019384\n",
       "8                               1102-CONTRACTING   43549    0.019111\n",
       "9                0679-MEDICAL SUPPORT ASSISTANCE   42599    0.018694"
      ]
     },
     "execution_count": 39,
     "metadata": {},
     "output_type": "execute_result"
    }
   ],
   "source": [
    "# top 10 occupations\n",
    "occ_freq[['OCCT','count','proportion']].head(10)"
   ]
  },
  {
   "cell_type": "code",
   "execution_count": null,
   "id": "f594c180",
   "metadata": {},
   "outputs": [],
   "source": []
  }
 ],
 "metadata": {
  "hide_input": false,
  "kernelspec": {
   "display_name": "Python 3 (ipykernel)",
   "language": "python",
   "name": "python3"
  },
  "language_info": {
   "codemirror_mode": {
    "name": "ipython",
    "version": 3
   },
   "file_extension": ".py",
   "mimetype": "text/x-python",
   "name": "python",
   "nbconvert_exporter": "python",
   "pygments_lexer": "ipython3",
   "version": "3.9.18"
  },
  "toc": {
   "base_numbering": 1,
   "nav_menu": {},
   "number_sections": true,
   "sideBar": true,
   "skip_h1_title": false,
   "title_cell": "Table of Contents",
   "title_sidebar": "Contents",
   "toc_cell": false,
   "toc_position": {},
   "toc_section_display": true,
   "toc_window_display": false
  },
  "varInspector": {
   "cols": {
    "lenName": 16,
    "lenType": 16,
    "lenVar": 40
   },
   "kernels_config": {
    "python": {
     "delete_cmd_postfix": "",
     "delete_cmd_prefix": "del ",
     "library": "var_list.py",
     "varRefreshCmd": "print(var_dic_list())"
    },
    "r": {
     "delete_cmd_postfix": ") ",
     "delete_cmd_prefix": "rm(",
     "library": "var_list.r",
     "varRefreshCmd": "cat(var_dic_list()) "
    }
   },
   "types_to_exclude": [
    "module",
    "function",
    "builtin_function_or_method",
    "instance",
    "_Feature"
   ],
   "window_display": false
  }
 },
 "nbformat": 4,
 "nbformat_minor": 5
}
