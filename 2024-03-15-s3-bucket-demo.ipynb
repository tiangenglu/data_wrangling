{
 "cells": [
  {
   "cell_type": "markdown",
   "id": "cc736948",
   "metadata": {},
   "source": [
    "# `boto3`, `io`, s3 bucket data\n",
    "\n",
    "1. Create an AWS account, then create a bucket and upload a few datasets\n",
    "2. Left navigation pane: Amazon S3 >> IAM Access Analyzer for S3 >> Buckets with access from other AWS acounts >> IAM console >> IAM resources >> users >> Create user (save aws_secret_access_key) >> Permissions policies (search S3) >> Add permissions\n",
    "3. Requires `aws_access_key_id` and `aws_secret_access_key`"
   ]
  },
  {
   "cell_type": "code",
   "execution_count": 1,
   "id": "38feecc1",
   "metadata": {},
   "outputs": [],
   "source": [
    "import boto3\n",
    "import io\n",
    "import getpass\n",
    "import pandas as pd\n",
    "import sys"
   ]
  },
  {
   "cell_type": "code",
   "execution_count": 9,
   "id": "ca45baae",
   "metadata": {},
   "outputs": [
    {
     "name": "stdout",
     "output_type": "stream",
     "text": [
      "Python version info: 3.9.18 (main, Sep 11 2023, 08:38:23) \n",
      "[Clang 14.0.6 ]\n",
      "boto3 version:  1.34.62\n",
      "pandas version:  2.1.4\n"
     ]
    }
   ],
   "source": [
    "print(\"Python version info:\", sys.version)\n",
    "print(\"boto3 version: \", boto3.__version__)\n",
    "print(\"pandas version: \", pd.__version__)"
   ]
  },
  {
   "cell_type": "code",
   "execution_count": 10,
   "id": "b8f90601",
   "metadata": {},
   "outputs": [
    {
     "name": "stdout",
     "output_type": "stream",
     "text": [
      "aws_access_key_id: ········\n"
     ]
    }
   ],
   "source": [
    "my_aws_access_key_id = '{0}'.format(getpass.getpass('aws_access_key_id: '))"
   ]
  },
  {
   "cell_type": "code",
   "execution_count": 12,
   "id": "ee763a4b",
   "metadata": {},
   "outputs": [
    {
     "name": "stdout",
     "output_type": "stream",
     "text": [
      "aws_secret_access_key: ········\n"
     ]
    }
   ],
   "source": [
    "my_aws_secret_access_key = '{0}'.format(getpass.getpass('aws_secret_access_key: '))"
   ]
  },
  {
   "cell_type": "code",
   "execution_count": 14,
   "id": "3515ecc5",
   "metadata": {},
   "outputs": [
    {
     "name": "stdout",
     "output_type": "stream",
     "text": [
      "bucket_name: ········\n"
     ]
    }
   ],
   "source": [
    "my_bucket = '{0}'.format(getpass.getpass('bucket_name: '))"
   ]
  },
  {
   "cell_type": "code",
   "execution_count": 16,
   "id": "1af260be",
   "metadata": {},
   "outputs": [],
   "source": [
    "session = boto3.Session(profile_name = None,\n",
    "                        region_name = 'us-east-2')\n",
    "conn = session.client('s3',\n",
    "                      aws_access_key_id = my_aws_access_key_id,\n",
    "                      aws_secret_access_key = my_aws_secret_access_key)"
   ]
  },
  {
   "cell_type": "code",
   "execution_count": 17,
   "id": "6d3a45ef",
   "metadata": {},
   "outputs": [],
   "source": [
    "files_content = conn.list_objects(Bucket = my_bucket)['Contents']\n",
    "file_names = [file['Key'] for file in files_content]"
   ]
  },
  {
   "cell_type": "code",
   "execution_count": 18,
   "id": "9021fd4b",
   "metadata": {},
   "outputs": [
    {
     "data": {
      "text/plain": [
       "['opm_201309/DTagelvl.txt',\n",
       " 'opm_201309/DTagy.txt',\n",
       " 'opm_201309/DTdate.txt',\n",
       " 'opm_201309/DTedlvl.txt',\n",
       " 'opm_201309/DTgsegrd.txt']"
      ]
     },
     "execution_count": 18,
     "metadata": {},
     "output_type": "execute_result"
    }
   ],
   "source": [
    "file_names[:5]"
   ]
  },
  {
   "cell_type": "code",
   "execution_count": 19,
   "id": "91f75977",
   "metadata": {},
   "outputs": [],
   "source": [
    "response = conn.get_object(Bucket = my_bucket, Key = file_names[0])\n",
    "file = response['Body'].read()"
   ]
  },
  {
   "cell_type": "code",
   "execution_count": 20,
   "id": "7f67e0a1",
   "metadata": {},
   "outputs": [
    {
     "data": {
      "text/html": [
       "<div>\n",
       "<style scoped>\n",
       "    .dataframe tbody tr th:only-of-type {\n",
       "        vertical-align: middle;\n",
       "    }\n",
       "\n",
       "    .dataframe tbody tr th {\n",
       "        vertical-align: top;\n",
       "    }\n",
       "\n",
       "    .dataframe thead th {\n",
       "        text-align: right;\n",
       "    }\n",
       "</style>\n",
       "<table border=\"1\" class=\"dataframe\">\n",
       "  <thead>\n",
       "    <tr style=\"text-align: right;\">\n",
       "      <th></th>\n",
       "      <th>AGELVL</th>\n",
       "      <th>AGELVLT</th>\n",
       "    </tr>\n",
       "  </thead>\n",
       "  <tbody>\n",
       "    <tr>\n",
       "      <th>0</th>\n",
       "      <td>A</td>\n",
       "      <td>Less than 20</td>\n",
       "    </tr>\n",
       "    <tr>\n",
       "      <th>1</th>\n",
       "      <td>B</td>\n",
       "      <td>20-24</td>\n",
       "    </tr>\n",
       "    <tr>\n",
       "      <th>2</th>\n",
       "      <td>C</td>\n",
       "      <td>25-29</td>\n",
       "    </tr>\n",
       "    <tr>\n",
       "      <th>3</th>\n",
       "      <td>D</td>\n",
       "      <td>30-34</td>\n",
       "    </tr>\n",
       "    <tr>\n",
       "      <th>4</th>\n",
       "      <td>E</td>\n",
       "      <td>35-39</td>\n",
       "    </tr>\n",
       "  </tbody>\n",
       "</table>\n",
       "</div>"
      ],
      "text/plain": [
       "  AGELVL       AGELVLT\n",
       "0      A  Less than 20\n",
       "1      B         20-24\n",
       "2      C         25-29\n",
       "3      D         30-34\n",
       "4      E         35-39"
      ]
     },
     "execution_count": 20,
     "metadata": {},
     "output_type": "execute_result"
    }
   ],
   "source": [
    "df = pd.read_csv(io.BytesIO(file), low_memory = False)\n",
    "df.head()"
   ]
  }
 ],
 "metadata": {
  "hide_input": false,
  "kernelspec": {
   "display_name": "Python 3 (ipykernel)",
   "language": "python",
   "name": "python3"
  },
  "language_info": {
   "codemirror_mode": {
    "name": "ipython",
    "version": 3
   },
   "file_extension": ".py",
   "mimetype": "text/x-python",
   "name": "python",
   "nbconvert_exporter": "python",
   "pygments_lexer": "ipython3",
   "version": "3.9.18"
  },
  "toc": {
   "base_numbering": "",
   "nav_menu": {},
   "number_sections": false,
   "sideBar": true,
   "skip_h1_title": false,
   "title_cell": "Table of Contents",
   "title_sidebar": "Contents",
   "toc_cell": false,
   "toc_position": {
    "height": "calc(100% - 180px)",
    "left": "10px",
    "top": "150px",
    "width": "288px"
   },
   "toc_section_display": true,
   "toc_window_display": false
  },
  "varInspector": {
   "cols": {
    "lenName": 16,
    "lenType": 16,
    "lenVar": 40
   },
   "kernels_config": {
    "python": {
     "delete_cmd_postfix": "",
     "delete_cmd_prefix": "del ",
     "library": "var_list.py",
     "varRefreshCmd": "print(var_dic_list())"
    },
    "r": {
     "delete_cmd_postfix": ") ",
     "delete_cmd_prefix": "rm(",
     "library": "var_list.r",
     "varRefreshCmd": "cat(var_dic_list()) "
    }
   },
   "types_to_exclude": [
    "module",
    "function",
    "builtin_function_or_method",
    "instance",
    "_Feature"
   ],
   "window_display": false
  }
 },
 "nbformat": 4,
 "nbformat_minor": 5
}
